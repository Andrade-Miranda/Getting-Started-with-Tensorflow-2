{
 "cells": [
  {
   "cell_type": "code",
   "execution_count": null,
   "metadata": {},
   "outputs": [],
   "source": [
    "import tensorflow as tf"
   ]
  },
  {
   "cell_type": "code",
   "execution_count": null,
   "metadata": {},
   "outputs": [],
   "source": [
    "from tensorflow.keras.layers import Dense, BatchNormalization\n",
    "from tensorflow.keras.models import Sequential"
   ]
  },
  {
   "cell_type": "code",
   "execution_count": null,
   "metadata": {},
   "outputs": [],
   "source": [
    "from sklearn.datasets import load_diabetes\n",
    "from sklearn.model_selection import train_test_split\n",
    "diabetes = load_diabetes()\n",
    "\n",
    "data = diabetes['data']\n",
    "targets = diabetes['target']"
   ]
  },
  {
   "cell_type": "code",
   "execution_count": null,
   "metadata": {},
   "outputs": [],
   "source": [
    "X_train,X_val,y_train,y_val = train_test_split(data, targets, test_size = 0.1)"
   ]
  },
  {
   "cell_type": "markdown",
   "metadata": {},
   "source": [
    "#### Dummy Model"
   ]
  },
  {
   "cell_type": "code",
   "execution_count": null,
   "metadata": {},
   "outputs": [],
   "source": [
    "model = Sequential([\n",
    "    Dense(128, activation='relu', input_shape=(X_train.shape[1],)),\n",
    "    Dense(64,activation='relu'),\n",
    "    tf.keras.layers.BatchNormalization(),\n",
    "    Dense(64, activation='relu'),\n",
    "    Dense(64, activation='relu'),\n",
    "    Dense(1)  \n",
    "])"
   ]
  },
  {
   "cell_type": "code",
   "execution_count": null,
   "metadata": {},
   "outputs": [],
   "source": [
    "model.compile(\n",
    "    optimizer='adam',\n",
    "    loss='mse',\n",
    "    metrics=['mae']\n",
    ")"
   ]
  },
  {
   "cell_type": "markdown",
   "metadata": {},
   "source": [
    "### Custom Callback\n",
    "##### we will use logs dictionary to access the loss and metric value"
   ]
  },
  {
   "cell_type": "code",
   "execution_count": null,
   "metadata": {},
   "outputs": [],
   "source": [
    "class customCallback(tf.keras.callbacks.Callback):\n",
    "    \n",
    "    def on_train_batch_end(self,batch,logs = None):\n",
    "        if batch % 2 is 0:\n",
    "            print( f\"\\n After Batch {batch}, loss is {logs['loss']}\" )\n",
    "\n",
    "    def on_test_batch_end(self,batch,logs=None):\n",
    "        if batch % 2 is 0:\n",
    "            print(f\"\\n After Batch {batch}, loss is {logs['loss']} \")\n",
    "\n",
    "    def on_epoch_end(self, epoch, logs = None):\n",
    "        print(f\"Epoch {epoch}, Mean Absolute Error is {logs['mae']}, Loss is {logs['loss']}\")\n",
    "        \n",
    "    def on_predict_batch_end(self, batch, logs=None):\n",
    "        print(f\"Finished Prediction on Batch {batch}\")"
   ]
  },
  {
   "cell_type": "code",
   "execution_count": null,
   "metadata": {},
   "outputs": [],
   "source": [
    "history = model.fit(X_train, y_train, epochs=10, callbacks=[customCallback()], verbose = 0, batch_size=2**6)"
   ]
  },
  {
   "cell_type": "code",
   "execution_count": null,
   "metadata": {},
   "outputs": [],
   "source": [
    "model.evaluate(X_val,y_val, callbacks=[customCallback()], verbose=0, batch_size=10)"
   ]
  },
  {
   "cell_type": "code",
   "execution_count": null,
   "metadata": {},
   "outputs": [],
   "source": [
    "model.predict(X_val,batch_size=10, callbacks=[customCallback()], verbose=False )"
   ]
  },
  {
   "cell_type": "markdown",
   "metadata": {},
   "source": [
    "### We will define a custom callback to reduce the learning rate w.r.t to # of Epochs\n",
    "\n",
    "##### It is going to have a more complex custom callback"
   ]
  },
  {
   "cell_type": "code",
   "execution_count": null,
   "metadata": {},
   "outputs": [],
   "source": [
    "lr_schedule = [\n",
    "    (5,0.05), (10,0.03), (15,0.02), (20,0.01)\n",
    "]\n",
    "# we will get new learning rate using this function by comparing to list above.\n",
    "def get_new_learning_rate(epoch, lr):\n",
    "    for i in lr_schedule:\n",
    "        if epoch in i:\n",
    "            lr = i[1]\n",
    "\n",
    "    return lr"
   ]
  },
  {
   "cell_type": "code",
   "execution_count": null,
   "metadata": {},
   "outputs": [],
   "source": [
    "class Learning_rate_scheduler( tf.keras.callbacks.Callback ):\n",
    "     def __init__(self, new_lr):\n",
    "        super(Learning_rate_scheduler, self).__init__\n",
    "        #adding new learning rate function to our callback\n",
    "        self.new_lr = new_lr\n",
    "    \n",
    "     def on_epoch_begin(self, epoch, logs=None):\n",
    "        #we will check if our optimizer has learning rate option or not\n",
    "        try:\n",
    "            curr_rate = tf.keras.backend.get_value(self.model.optimizer.lr)\n",
    "\n",
    "            #calling auxillary function to get scheduled learning rate, we have passed the function as parameter which is new_lr\n",
    "\n",
    "            scheduled_rate = self.new_lr(epoch, curr_rate)\n",
    "\n",
    "            tf.keras.backend.set_value(self.model.optimizer.lr, scheduled_rate)\n",
    "\n",
    "            print(f\"Learning Rate for Epoch {epoch} is {tf.keras.backend.get_value(self.model.optimizer.lr)}\")\n",
    "\n",
    "        except Exception as E:\n",
    "            print(f'{E}\\n Most Probably your optimizer do not have learing rate option.')"
   ]
  },
  {
   "cell_type": "code",
   "execution_count": null,
   "metadata": {},
   "outputs": [],
   "source": [
    "model = Sequential([\n",
    "    \n",
    "    Dense(128, activation='relu', input_shape=(X_train.shape[1],)),\n",
    "    Dense(64,activation='relu'),\n",
    "    tf.keras.layers.BatchNormalization(),\n",
    "    Dense(64, activation='relu'),\n",
    "    Dense(64, activation='relu'),\n",
    "    Dense(1)        \n",
    "])"
   ]
  },
  {
   "cell_type": "code",
   "execution_count": null,
   "metadata": {},
   "outputs": [],
   "source": [
    "model.compile(loss='mse',\n",
    "                optimizer=\"adam\",\n",
    "                metrics=['mae', 'mse'])"
   ]
  },
  {
   "cell_type": "code",
   "execution_count": null,
   "metadata": {},
   "outputs": [],
   "source": [
    "model.fit(X_train, y_train, epochs=25, batch_size=64, callbacks=[Learning_rate_scheduler(get_new_learning_rate)], verbose=False)"
   ]
  },
  {
   "cell_type": "code",
   "execution_count": null,
   "metadata": {},
   "outputs": [],
   "source": []
  }
 ],
 "metadata": {
  "language_info": {
   "codemirror_mode": {
    "name": "ipython",
    "version": 3
   },
   "file_extension": ".py",
   "mimetype": "text/x-python",
   "name": "python",
   "nbconvert_exporter": "python",
   "pygments_lexer": "ipython3",
   "version": "3.7.7-final"
  },
  "orig_nbformat": 2,
  "kernelspec": {
   "name": "python37764bitmyenvconda4a11ba26287d4d1c969b9946e31eb2a2",
   "language": "python",
   "display_name": "Python 3.7.7 64-bit ('myenv': conda)"
  }
 },
 "nbformat": 4,
 "nbformat_minor": 2
}