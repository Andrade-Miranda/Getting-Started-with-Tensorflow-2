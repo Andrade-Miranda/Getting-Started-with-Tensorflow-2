{
 "cells": [
  {
   "cell_type": "code",
   "execution_count": 33,
   "metadata": {
    "scrolled": true
   },
   "outputs": [
    {
     "name": "stdout",
     "output_type": "stream",
     "text": [
      "2.2.0\n"
     ]
    }
   ],
   "source": [
    "import tensorflow as tf\n",
    "print(tf.__version__)"
   ]
  },
  {
   "cell_type": "markdown",
   "metadata": {},
   "source": [
    "# Validation, regularisation and callbacks"
   ]
  },
  {
   "cell_type": "markdown",
   "metadata": {},
   "source": [
    " ## Coding tutorials\n",
    " #### [1. Validation sets](#coding_tutorial_1)\n",
    " #### [2. Model regularisation](#coding_tutorial_2)\n",
    " #### [3. Introduction to callbacks](#coding_tutorial_3)\n",
    " #### [4. Early stopping / patience](#coding_tutorial_4)"
   ]
  },
  {
   "cell_type": "markdown",
   "metadata": {},
   "source": [
    "***\n",
    "<a id=\"coding_tutorial_1\"></a>\n",
    "## Validation sets"
   ]
  },
  {
   "cell_type": "markdown",
   "metadata": {},
   "source": [
    "#### Load the data"
   ]
  },
  {
   "cell_type": "code",
   "execution_count": 7,
   "metadata": {},
   "outputs": [
    {
     "name": "stdout",
     "output_type": "stream",
     "text": [
      ".. _diabetes_dataset:\n",
      "\n",
      "Diabetes dataset\n",
      "----------------\n",
      "\n",
      "Ten baseline variables, age, sex, body mass index, average blood\n",
      "pressure, and six blood serum measurements were obtained for each of n =\n",
      "442 diabetes patients, as well as the response of interest, a\n",
      "quantitative measure of disease progression one year after baseline.\n",
      "\n",
      "**Data Set Characteristics:**\n",
      "\n",
      "  :Number of Instances: 442\n",
      "\n",
      "  :Number of Attributes: First 10 columns are numeric predictive values\n",
      "\n",
      "  :Target: Column 11 is a quantitative measure of disease progression one year after baseline\n",
      "\n",
      "  :Attribute Information:\n",
      "      - age     age in years\n",
      "      - sex\n",
      "      - bmi     body mass index\n",
      "      - bp      average blood pressure\n",
      "      - s1      tc, T-Cells (a type of white blood cells)\n",
      "      - s2      ldl, low-density lipoproteins\n",
      "      - s3      hdl, high-density lipoproteins\n",
      "      - s4      tch, thyroid stimulating hormone\n",
      "      - s5      ltg, lamotrigine\n",
      "      - s6      glu, blood sugar level\n",
      "\n",
      "Note: Each of these 10 feature variables have been mean centered and scaled by the standard deviation times `n_samples` (i.e. the sum of squares of each column totals 1).\n",
      "\n",
      "Source URL:\n",
      "https://www4.stat.ncsu.edu/~boos/var.select/diabetes.html\n",
      "\n",
      "For more information see:\n",
      "Bradley Efron, Trevor Hastie, Iain Johnstone and Robert Tibshirani (2004) \"Least Angle Regression,\" Annals of Statistics (with discussion), 407-499.\n",
      "(https://web.stanford.edu/~hastie/Papers/LARS/LeastAngle_2002.pdf)\n"
     ]
    }
   ],
   "source": [
    "# Load the diabetes dataset\n",
    "from sklearn.datasets import load_diabetes\n",
    "diabaties_dataset = load_diabetes()\n",
    "print(diabaties_dataset[\"DESCR\"])"
   ]
  },
  {
   "cell_type": "code",
   "execution_count": 8,
   "metadata": {},
   "outputs": [
    {
     "data": {
      "text/plain": "dict_keys(['data', 'target', 'frame', 'DESCR', 'feature_names', 'data_filename', 'target_filename'])"
     },
     "execution_count": 8,
     "metadata": {},
     "output_type": "execute_result"
    }
   ],
   "source": [
    "diabaties_dataset.keys()"
   ]
  },
  {
   "cell_type": "code",
   "execution_count": 9,
   "metadata": {},
   "outputs": [],
   "source": [
    "# Save the input and target variables\n",
    "data = diabaties_dataset['data']\n",
    "target = diabaties_dataset['target']\n"
   ]
  },
  {
   "cell_type": "code",
   "execution_count": 10,
   "metadata": {},
   "outputs": [
    {
     "data": {
      "text/plain": "array([-1.47194752e-02, -1.00165882e+00, -1.44579915e-01,  6.99512942e-01,\n       -2.22496178e-01, -7.15965848e-01, -1.83538046e-01, -1.15749134e+00,\n       -5.47147277e-01,  2.05006151e+00, -6.64021672e-01, -1.07957508e+00,\n        3.48889755e-01,  4.26806019e-01, -4.43258925e-01,  2.45001404e-01,\n        1.80071184e-01, -1.05621783e-01, -7.15965848e-01,  2.06043272e-01,\n       -1.09256112e+00, -1.33929596e+00, -1.09256112e+00,  1.20596866e+00,\n        4.13819975e-01,  6.47568766e-01, -1.96524090e-01, -8.71798376e-01,\n       -2.74440354e-01,  1.69943833e+00, -3.00412442e-01, -1.20943552e+00,\n        2.45262887e+00, -8.45826288e-01, -1.13151925e+00, -6.51035629e-01,\n        1.46568953e+00,  1.60853602e+00,  1.29687096e+00, -8.06868156e-01,\n       -6.77007716e-01, -1.26137969e+00, -1.18346343e+00, -7.80896068e-01,\n        1.38777327e+00, -1.28735178e+00,  4.91736239e-01, -1.31593871e-01,\n       -1.00165882e+00, -1.31593871e-01,  3.72247006e-02,  9.46247777e-01,\n       -1.20943552e+00, -6.25063541e-01,  3.87847887e-01, -3.13398486e-01,\n       -1.30033783e+00, -1.49512849e+00,  2.32015360e-01,  2.32015360e-01,\n       -1.18346343e+00, -1.05621783e-01, -1.30033783e+00, -3.13398486e-01,\n       -1.05360299e+00,  1.41113052e-01, -2.77055191e-02, -7.15965848e-01,\n        1.02154920e-01,  3.35903711e-01, -1.35228200e+00,  1.53061975e+00,\n        6.47568766e-01, -5.34161233e-01, -8.71798376e-01, -1.43019827e+00,\n        2.32015360e-01,  6.21596678e-01,  1.29687096e+00, -5.08189145e-01,\n       -1.18607827e-01, -1.31332387e+00, -1.30033783e+00,  7.51457118e-01,\n       -1.13151925e+00, -1.44579915e-01, -1.26137969e+00, -2.35482222e-01,\n       -1.43019827e+00, -5.34161233e-01, -7.02979804e-01,  1.54099096e-01,\n       -1.35228200e+00, -7.28951892e-01, -8.06868156e-01,  1.28127008e-01,\n       -2.77055191e-02,  1.64749415e+00, -7.80896068e-01, -8.97770464e-01,\n       -3.13398486e-01, -6.51035629e-01,  1.94617316e+00,  5.95624590e-01,\n       -7.41937936e-01, -1.28735178e+00, -2.35482222e-01, -1.05621783e-01,\n        1.03715008e+00, -9.23742551e-01, -6.25063541e-01, -1.20943552e+00,\n        1.21895470e+00,  1.88124294e+00,  1.37478723e+00,  9.98191953e-01,\n        1.59554997e+00,  1.67346624e+00,  3.48889755e-01,  6.21596678e-01,\n        6.21596678e-01,  2.70973492e-01,  3.61875799e-01, -8.84784420e-01,\n       -4.04300794e-01,  1.15140964e-01, -6.89993760e-01, -5.60133321e-01,\n       -4.82217057e-01,  1.50464767e+00,  1.58256393e+00,  7.61828325e-02,\n       -5.86105409e-01, -8.97770464e-01, -6.38049585e-01,  1.55659184e+00,\n       -8.71798376e-01,  1.66048019e+00,  2.38769865e+00,  1.67346624e+00,\n       -4.43258925e-01,  2.14096382e+00,  1.07610822e+00, -1.19644947e+00,\n        2.83959536e-01,  1.38777327e+00,  3.35903711e-01, -3.13398486e-01,\n       -7.28951892e-01, -3.39370574e-01,  1.76436855e+00, -8.32840244e-01,\n        1.81631272e+00, -1.05360299e+00,  5.82638546e-01,  4.39792063e-01,\n       -1.65096101e+00, -8.84784420e-01, -7.28951892e-01,  5.56666458e-01,\n       -1.28735178e+00,  8.42359425e-01,  2.57987448e-01, -2.74440354e-01,\n        8.03401293e-01, -1.20943552e+00, -1.06658903e+00,  8.81317557e-01,\n        1.50464767e+00, -1.73343121e-03, -1.36526805e+00, -1.01464486e+00,\n        1.85527085e+00, -6.64021672e-01, -1.47194752e-02, -3.26384530e-01,\n        1.10208030e+00,  9.46247777e-01, -9.23742551e-01, -1.47194752e-02,\n       -5.86105409e-01, -1.14450530e+00, -1.83538046e-01,  4.26806019e-01,\n        1.46568953e+00, -6.64021672e-01, -1.96524090e-01, -1.18607827e-01,\n       -1.44579915e-01, -9.49714639e-01,  1.81631272e+00,  3.35903711e-01,\n       -7.93882112e-01, -4.69231013e-01, -8.58812332e-01, -3.91314750e-01,\n       -1.04061695e+00, -3.00412442e-01, -1.31593871e-01, -8.06868156e-01,\n        7.61828325e-02, -1.46915640e+00,  5.69652502e-01,  9.07289645e-01,\n        1.62152206e+00, -6.89993760e-01,  5.69652502e-01,  6.47568766e-01,\n        3.72247006e-02, -9.75686727e-01,  5.04722283e-01, -1.06658903e+00,\n       -1.02763090e+00, -1.33929596e+00, -1.13151925e+00,  1.43971745e+00,\n        1.24492679e+00,  1.86825690e+00,  8.03401293e-01,  4.26806019e-01,\n       -9.62700683e-01, -7.67910024e-01,  1.29687096e+00, -2.77055191e-02,\n       -9.75686727e-01,  7.25485030e-01, -9.75686727e-01, -5.73119365e-01,\n        1.02154920e-01, -1.28735178e+00,  8.81317557e-01,  2.42386567e-02,\n        1.38777327e+00, -8.06868156e-01,  1.21895470e+00, -3.65342662e-01,\n       -1.10554717e+00, -1.04061695e+00,  1.36180118e+00,  1.42673140e+00,\n        1.59554997e+00,  3.22917667e-01, -1.05360299e+00, -1.36526805e+00,\n        4.52778107e-01, -3.52356618e-01, -9.62700683e-01, -1.31332387e+00,\n        1.37478723e+00,  8.16387337e-01,  1.95915920e+00,  1.17999657e+00,\n       -7.93882112e-01, -2.77055191e-02,  2.05006151e+00,  1.12526127e-02,\n        2.51755909e+00, -1.15749134e+00, -8.19854200e-01, -1.32630991e+00,\n       -1.46915640e+00, -6.38049585e-01,  2.02408942e+00, -4.69231013e-01,\n       -9.26357388e-02, -1.01464486e+00, -1.39124013e+00, -4.82217057e-01,\n        1.45270349e+00, -8.45826288e-01,  6.47568766e-01, -3.26384530e-01,\n        3.87847887e-01,  1.15402448e+00, -1.11853321e+00, -7.54923980e-01,\n        1.69943833e+00, -1.14450530e+00, -6.51035629e-01,  6.21596678e-01,\n        1.46568953e+00, -7.54923980e-01,  1.01117800e+00,  3.74861843e-01,\n        5.02107446e-02,  1.05013613e+00, -1.19644947e+00,  8.68331513e-01,\n       -9.36728595e-01, -1.09256112e+00,  2.33575448e+00,  1.24492679e+00,\n       -8.84784420e-01,  6.21596678e-01, -1.26137969e+00, -8.71798376e-01,\n       -8.19854200e-01, -1.57304475e+00, -3.00412442e-01, -8.97770464e-01,\n        1.59554997e+00, -1.13151925e+00,  5.95624590e-01,  1.08909426e+00,\n        1.30985701e+00, -3.65342662e-01, -1.40422618e+00,  2.57987448e-01,\n       -4.95203101e-01, -1.31593871e-01, -5.60133321e-01,  3.61875799e-01,\n       -1.05621783e-01,  1.41113052e-01, -6.66636509e-02, -7.15965848e-01,\n        8.81317557e-01,  4.91736239e-01, -5.60133321e-01,  5.04722283e-01,\n       -3.91314750e-01,  1.01117800e+00,  1.16701052e+00,  1.24492679e+00,\n        1.25791283e+00,  5.17708327e-01, -2.74440354e-01,  1.10208030e+00,\n       -9.62700683e-01, -2.22496178e-01,  1.19298261e+00,  6.08610634e-01,\n        1.53061975e+00,  1.54099096e-01, -1.04061695e+00, -7.28951892e-01,\n        1.99811734e+00, -7.93882112e-01,  8.03401293e-01, -7.41937936e-01,\n        8.29373381e-01,  1.43971745e+00,  3.35903711e-01, -5.08189145e-01,\n        6.21596678e-01, -1.70552003e-01, -1.70552003e-01, -8.32840244e-01,\n       -5.36776070e-02, -8.32840244e-01,  1.17999657e+00, -1.05360299e+00,\n       -9.75686727e-01, -5.60133321e-01,  1.55659184e+00, -1.19644947e+00,\n       -1.27436574e+00,  8.94303601e-01, -8.06868156e-01,  2.06304756e+00,\n        1.67346624e+00,  3.87847887e-01,  2.19290800e+00, -1.22242156e+00,\n        1.42673140e+00,  6.99512942e-01,  1.05013613e+00,  1.16701052e+00,\n       -3.78328706e-01,  1.93057228e-01, -1.15749134e+00,  5.82638546e-01,\n       -1.05360299e+00,  2.06043272e-01, -1.57565959e-01,  8.42359425e-01,\n       -4.04300794e-01,  1.07610822e+00,  1.20596866e+00, -1.45617035e+00,\n       -1.30033783e+00, -6.25063541e-01, -2.61454310e-01, -8.32840244e-01,\n       -1.07957508e+00,  8.68331513e-01, -1.04061695e+00,  6.34582722e-01,\n       -5.47147277e-01, -1.31332387e+00,  1.62152206e+00, -1.15749134e+00,\n       -4.43258925e-01, -1.07957508e+00,  1.56957789e+00,  1.37478723e+00,\n       -1.41721222e+00,  5.95624590e-01,  1.16701052e+00,  1.03715008e+00,\n        2.96945580e-01, -7.67910024e-01,  2.06043272e-01,  1.59554997e+00,\n        1.82929877e+00,  1.67346624e+00, -1.04061695e+00, -1.57565959e-01,\n        4.78750195e-01,  3.74861843e-01,  7.38471074e-01, -2.09510134e-01,\n        1.41374536e+00, -5.08189145e-01, -2.74440354e-01,  2.83959536e-01,\n        1.36180118e+00, -1.26137969e+00, -8.84784420e-01, -1.43019827e+00,\n       -7.96496949e-02,  7.77429206e-01,  1.05013613e+00, -7.93882112e-01,\n       -5.34161233e-01, -1.73343121e-03, -4.17286837e-01, -1.10554717e+00,\n        2.05006151e+00, -7.54923980e-01,  4.00833931e-01, -1.11853321e+00,\n        2.70973492e-01, -1.04061695e+00, -1.33929596e+00, -1.14450530e+00,\n       -1.35228200e+00,  3.35903711e-01, -6.25063541e-01, -2.61454310e-01,\n        8.81317557e-01, -1.23540761e+00])"
     },
     "execution_count": 10,
     "metadata": {},
     "output_type": "execute_result"
    }
   ],
   "source": [
    "import numpy as np\n",
    "# Normalise the target data (this will make clearer training curves)\n",
    "target = (target - np.mean(target))/np.std(target)\n",
    "target"
   ]
  },
  {
   "cell_type": "code",
   "execution_count": 11,
   "metadata": {},
   "outputs": [
    {
     "name": "stdout",
     "output_type": "stream",
     "text": [
      "(397, 10)\n",
      "(397,)\n",
      "(45, 10)\n",
      "(45,)\n"
     ]
    }
   ],
   "source": [
    "# Split the data into train and test sets\n",
    "from sklearn.model_selection import train_test_split\n",
    "\n",
    "X_train,X_test,Y_train,Y_test = train_test_split(data,target,test_size=0.1 )\n",
    "print(X_train.shape)\n",
    "print(Y_train.shape)\n",
    "\n",
    "print(X_test.shape)\n",
    "print(Y_test.shape)"
   ]
  },
  {
   "cell_type": "markdown",
   "metadata": {},
   "source": [
    "#### Train a feedforward neural network model"
   ]
  },
  {
   "cell_type": "code",
   "execution_count": 12,
   "metadata": {},
   "outputs": [
    {
     "data": {
      "text/plain": "10"
     },
     "execution_count": 12,
     "metadata": {},
     "output_type": "execute_result"
    }
   ],
   "source": [
    "X_train.shape[1]"
   ]
  },
  {
   "cell_type": "code",
   "execution_count": 13,
   "metadata": {},
   "outputs": [],
   "source": [
    "# Build the model\n",
    "\n",
    "from tensorflow.keras.models import Sequential\n",
    "from tensorflow.keras.layers import Dense\n",
    "\n",
    "def get_model():\n",
    "    model = Sequential([\n",
    "        Dense(128, activation='relu', input_shape=(X_train.shape[1],)),\n",
    "        Dense(128,activation='relu'),\n",
    "        Dense(128,activation='relu'),\n",
    "        Dense(128,activation='relu'),\n",
    "        Dense(128,activation='relu'),\n",
    "        Dense(128,activation='relu'),\n",
    "        Dense(1,activation='linear')\n",
    "    ])\n",
    "    return model\n",
    "model = get_model()"
   ]
  },
  {
   "cell_type": "code",
   "execution_count": 14,
   "metadata": {},
   "outputs": [
    {
     "name": "stdout",
     "output_type": "stream",
     "text": [
      "Model: \"sequential\"\n",
      "_________________________________________________________________\n",
      "Layer (type)                 Output Shape              Param #   \n",
      "=================================================================\n",
      "dense (Dense)                (None, 128)               1408      \n",
      "_________________________________________________________________\n",
      "dense_1 (Dense)              (None, 128)               16512     \n",
      "_________________________________________________________________\n",
      "dense_2 (Dense)              (None, 128)               16512     \n",
      "_________________________________________________________________\n",
      "dense_3 (Dense)              (None, 128)               16512     \n",
      "_________________________________________________________________\n",
      "dense_4 (Dense)              (None, 128)               16512     \n",
      "_________________________________________________________________\n",
      "dense_5 (Dense)              (None, 128)               16512     \n",
      "_________________________________________________________________\n",
      "dense_6 (Dense)              (None, 1)                 129       \n",
      "=================================================================\n",
      "Total params: 84,097\n",
      "Trainable params: 84,097\n",
      "Non-trainable params: 0\n",
      "_________________________________________________________________\n"
     ]
    }
   ],
   "source": [
    "# Print the model summary\n",
    "\n",
    "model.summary()"
   ]
  },
  {
   "cell_type": "code",
   "execution_count": 15,
   "metadata": {},
   "outputs": [],
   "source": [
    "# Compile the model\n",
    "\n",
    "model.compile(optimizer='adam',loss='mse', metrics=['mae'])"
   ]
  },
  {
   "cell_type": "code",
   "execution_count": 16,
   "metadata": {},
   "outputs": [
    {
     "name": "stdout",
     "output_type": "stream",
     "text": [
      "Epoch 1/100\n",
      "6/6 - 0s - loss: 0.9815 - mae: 0.8377 - val_loss: 0.9218 - val_mae: 0.8655\n",
      "Epoch 2/100\n",
      "6/6 - 0s - loss: 0.9161 - mae: 0.8079 - val_loss: 0.8137 - val_mae: 0.8072\n",
      "Epoch 3/100\n",
      "6/6 - 0s - loss: 0.7508 - mae: 0.7261 - val_loss: 0.6403 - val_mae: 0.6581\n",
      "Epoch 4/100\n",
      "6/6 - 0s - loss: 0.6215 - mae: 0.6411 - val_loss: 0.4621 - val_mae: 0.5460\n",
      "Epoch 5/100\n",
      "6/6 - 0s - loss: 0.5172 - mae: 0.5864 - val_loss: 0.5444 - val_mae: 0.5763\n",
      "Epoch 6/100\n",
      "6/6 - 0s - loss: 0.4850 - mae: 0.5660 - val_loss: 0.6479 - val_mae: 0.6187\n",
      "Epoch 7/100\n",
      "6/6 - 0s - loss: 0.4981 - mae: 0.5596 - val_loss: 0.5200 - val_mae: 0.5636\n",
      "Epoch 8/100\n",
      "6/6 - 0s - loss: 0.4981 - mae: 0.5552 - val_loss: 0.5317 - val_mae: 0.5631\n",
      "Epoch 9/100\n",
      "6/6 - 0s - loss: 0.4718 - mae: 0.5599 - val_loss: 0.5563 - val_mae: 0.5770\n",
      "Epoch 10/100\n",
      "6/6 - 0s - loss: 0.4533 - mae: 0.5430 - val_loss: 0.5242 - val_mae: 0.5625\n",
      "Epoch 11/100\n",
      "6/6 - 0s - loss: 0.4476 - mae: 0.5336 - val_loss: 0.5310 - val_mae: 0.5663\n",
      "Epoch 12/100\n",
      "6/6 - 0s - loss: 0.4289 - mae: 0.5258 - val_loss: 0.5965 - val_mae: 0.6023\n",
      "Epoch 13/100\n",
      "6/6 - 0s - loss: 0.4389 - mae: 0.5186 - val_loss: 0.4964 - val_mae: 0.5516\n",
      "Epoch 14/100\n",
      "6/6 - 0s - loss: 0.4207 - mae: 0.5153 - val_loss: 0.5781 - val_mae: 0.5880\n",
      "Epoch 15/100\n",
      "6/6 - 0s - loss: 0.4216 - mae: 0.5170 - val_loss: 0.5722 - val_mae: 0.5877\n",
      "Epoch 16/100\n",
      "6/6 - 0s - loss: 0.4224 - mae: 0.5085 - val_loss: 0.5103 - val_mae: 0.5564\n",
      "Epoch 17/100\n",
      "6/6 - 0s - loss: 0.4435 - mae: 0.5285 - val_loss: 0.6490 - val_mae: 0.6290\n",
      "Epoch 18/100\n",
      "6/6 - 0s - loss: 0.4103 - mae: 0.5172 - val_loss: 0.5185 - val_mae: 0.5608\n",
      "Epoch 19/100\n",
      "6/6 - 0s - loss: 0.3903 - mae: 0.4922 - val_loss: 0.5518 - val_mae: 0.5594\n",
      "Epoch 20/100\n",
      "6/6 - 0s - loss: 0.3915 - mae: 0.5033 - val_loss: 0.5938 - val_mae: 0.5946\n",
      "Epoch 21/100\n",
      "6/6 - 0s - loss: 0.3895 - mae: 0.4920 - val_loss: 0.5485 - val_mae: 0.5675\n",
      "Epoch 22/100\n",
      "6/6 - 0s - loss: 0.3925 - mae: 0.4929 - val_loss: 0.5860 - val_mae: 0.5840\n",
      "Epoch 23/100\n",
      "6/6 - 0s - loss: 0.3642 - mae: 0.4764 - val_loss: 0.6079 - val_mae: 0.6095\n",
      "Epoch 24/100\n",
      "6/6 - 0s - loss: 0.3566 - mae: 0.4655 - val_loss: 0.5546 - val_mae: 0.5797\n",
      "Epoch 25/100\n",
      "6/6 - 0s - loss: 0.3717 - mae: 0.4777 - val_loss: 0.5818 - val_mae: 0.5872\n",
      "Epoch 26/100\n",
      "6/6 - 0s - loss: 0.3617 - mae: 0.4774 - val_loss: 0.6743 - val_mae: 0.6267\n",
      "Epoch 27/100\n",
      "6/6 - 0s - loss: 0.3487 - mae: 0.4547 - val_loss: 0.5513 - val_mae: 0.5685\n",
      "Epoch 28/100\n",
      "6/6 - 0s - loss: 0.3770 - mae: 0.4792 - val_loss: 0.6204 - val_mae: 0.6090\n",
      "Epoch 29/100\n",
      "6/6 - 0s - loss: 0.3442 - mae: 0.4678 - val_loss: 0.6947 - val_mae: 0.6310\n",
      "Epoch 30/100\n",
      "6/6 - 0s - loss: 0.3386 - mae: 0.4460 - val_loss: 0.5504 - val_mae: 0.5718\n",
      "Epoch 31/100\n",
      "6/6 - 0s - loss: 0.3284 - mae: 0.4491 - val_loss: 0.6215 - val_mae: 0.6049\n",
      "Epoch 32/100\n",
      "6/6 - 0s - loss: 0.3171 - mae: 0.4405 - val_loss: 0.5989 - val_mae: 0.5837\n",
      "Epoch 33/100\n",
      "6/6 - 0s - loss: 0.3214 - mae: 0.4384 - val_loss: 0.7498 - val_mae: 0.6579\n",
      "Epoch 34/100\n",
      "6/6 - 0s - loss: 0.3376 - mae: 0.4512 - val_loss: 0.6064 - val_mae: 0.5958\n",
      "Epoch 35/100\n",
      "6/6 - 0s - loss: 0.3051 - mae: 0.4276 - val_loss: 0.5510 - val_mae: 0.5676\n",
      "Epoch 36/100\n",
      "6/6 - 0s - loss: 0.3147 - mae: 0.4361 - val_loss: 0.6385 - val_mae: 0.6082\n",
      "Epoch 37/100\n",
      "6/6 - 0s - loss: 0.3334 - mae: 0.4558 - val_loss: 0.8417 - val_mae: 0.6932\n",
      "Epoch 38/100\n",
      "6/6 - 0s - loss: 0.3456 - mae: 0.4497 - val_loss: 0.5616 - val_mae: 0.5550\n",
      "Epoch 39/100\n",
      "6/6 - 0s - loss: 0.2967 - mae: 0.4276 - val_loss: 0.6156 - val_mae: 0.5895\n",
      "Epoch 40/100\n",
      "6/6 - 0s - loss: 0.2872 - mae: 0.4226 - val_loss: 0.7019 - val_mae: 0.6245\n",
      "Epoch 41/100\n",
      "6/6 - 0s - loss: 0.2798 - mae: 0.4117 - val_loss: 0.5442 - val_mae: 0.5546\n",
      "Epoch 42/100\n",
      "6/6 - 0s - loss: 0.2836 - mae: 0.4218 - val_loss: 0.5979 - val_mae: 0.5941\n",
      "Epoch 43/100\n",
      "6/6 - 0s - loss: 0.2679 - mae: 0.4091 - val_loss: 0.7203 - val_mae: 0.6422\n",
      "Epoch 44/100\n",
      "6/6 - 0s - loss: 0.2767 - mae: 0.4154 - val_loss: 0.6030 - val_mae: 0.5779\n",
      "Epoch 45/100\n",
      "6/6 - 0s - loss: 0.2513 - mae: 0.3865 - val_loss: 0.5775 - val_mae: 0.5772\n",
      "Epoch 46/100\n",
      "6/6 - 0s - loss: 0.2471 - mae: 0.3798 - val_loss: 0.6247 - val_mae: 0.5990\n",
      "Epoch 47/100\n",
      "6/6 - 0s - loss: 0.2536 - mae: 0.3819 - val_loss: 0.5964 - val_mae: 0.6099\n",
      "Epoch 48/100\n",
      "6/6 - 0s - loss: 0.3362 - mae: 0.4519 - val_loss: 0.6669 - val_mae: 0.6057\n",
      "Epoch 49/100\n",
      "6/6 - 0s - loss: 0.2754 - mae: 0.4186 - val_loss: 0.6864 - val_mae: 0.6339\n",
      "Epoch 50/100\n",
      "6/6 - 0s - loss: 0.3267 - mae: 0.4542 - val_loss: 0.5289 - val_mae: 0.5454\n",
      "Epoch 51/100\n",
      "6/6 - 0s - loss: 0.3022 - mae: 0.4326 - val_loss: 0.6537 - val_mae: 0.5899\n",
      "Epoch 52/100\n",
      "6/6 - 0s - loss: 0.2690 - mae: 0.4170 - val_loss: 0.7070 - val_mae: 0.6397\n",
      "Epoch 53/100\n",
      "6/6 - 0s - loss: 0.2575 - mae: 0.3888 - val_loss: 0.5505 - val_mae: 0.5524\n",
      "Epoch 54/100\n",
      "6/6 - 0s - loss: 0.2440 - mae: 0.3891 - val_loss: 0.6215 - val_mae: 0.5765\n",
      "Epoch 55/100\n",
      "6/6 - 0s - loss: 0.2235 - mae: 0.3697 - val_loss: 0.6555 - val_mae: 0.6189\n",
      "Epoch 56/100\n",
      "6/6 - 0s - loss: 0.2209 - mae: 0.3658 - val_loss: 0.5684 - val_mae: 0.5765\n",
      "Epoch 57/100\n",
      "6/6 - 0s - loss: 0.2122 - mae: 0.3547 - val_loss: 0.5578 - val_mae: 0.5600\n",
      "Epoch 58/100\n",
      "6/6 - 0s - loss: 0.2010 - mae: 0.3473 - val_loss: 0.6790 - val_mae: 0.6400\n",
      "Epoch 59/100\n",
      "6/6 - 0s - loss: 0.2097 - mae: 0.3624 - val_loss: 0.6510 - val_mae: 0.6151\n",
      "Epoch 60/100\n",
      "6/6 - 0s - loss: 0.1955 - mae: 0.3428 - val_loss: 0.5775 - val_mae: 0.5681\n",
      "Epoch 61/100\n",
      "6/6 - 0s - loss: 0.1668 - mae: 0.3134 - val_loss: 0.5444 - val_mae: 0.5762\n",
      "Epoch 62/100\n",
      "6/6 - 0s - loss: 0.1734 - mae: 0.3237 - val_loss: 0.6028 - val_mae: 0.5906\n",
      "Epoch 63/100\n",
      "6/6 - 0s - loss: 0.1809 - mae: 0.3227 - val_loss: 0.6205 - val_mae: 0.6046\n",
      "Epoch 64/100\n",
      "6/6 - 0s - loss: 0.1667 - mae: 0.3244 - val_loss: 0.7666 - val_mae: 0.6717\n",
      "Epoch 65/100\n",
      "6/6 - 0s - loss: 0.1911 - mae: 0.3427 - val_loss: 0.5974 - val_mae: 0.5874\n",
      "Epoch 66/100\n",
      "6/6 - 0s - loss: 0.1739 - mae: 0.3175 - val_loss: 0.5320 - val_mae: 0.5570\n",
      "Epoch 67/100\n",
      "6/6 - 0s - loss: 0.1898 - mae: 0.3450 - val_loss: 0.5174 - val_mae: 0.5476\n",
      "Epoch 68/100\n",
      "6/6 - 0s - loss: 0.1561 - mae: 0.3061 - val_loss: 0.5618 - val_mae: 0.5742\n",
      "Epoch 69/100\n",
      "6/6 - 0s - loss: 0.1578 - mae: 0.3114 - val_loss: 0.5607 - val_mae: 0.5823\n",
      "Epoch 70/100\n",
      "6/6 - 0s - loss: 0.1407 - mae: 0.2891 - val_loss: 0.7140 - val_mae: 0.6459\n",
      "Epoch 71/100\n",
      "6/6 - 0s - loss: 0.1546 - mae: 0.2941 - val_loss: 0.6212 - val_mae: 0.5963\n",
      "Epoch 72/100\n",
      "6/6 - 0s - loss: 0.1351 - mae: 0.2839 - val_loss: 0.5936 - val_mae: 0.5917\n",
      "Epoch 73/100\n",
      "6/6 - 0s - loss: 0.1280 - mae: 0.2730 - val_loss: 0.6545 - val_mae: 0.6196\n",
      "Epoch 74/100\n",
      "6/6 - 0s - loss: 0.1298 - mae: 0.2768 - val_loss: 0.6011 - val_mae: 0.5884\n",
      "Epoch 75/100\n",
      "6/6 - 0s - loss: 0.1124 - mae: 0.2443 - val_loss: 0.6046 - val_mae: 0.5935\n",
      "Epoch 76/100\n",
      "6/6 - 0s - loss: 0.1184 - mae: 0.2610 - val_loss: 0.6614 - val_mae: 0.6151\n",
      "Epoch 77/100\n",
      "6/6 - 0s - loss: 0.1193 - mae: 0.2604 - val_loss: 0.5694 - val_mae: 0.5755\n",
      "Epoch 78/100\n",
      "6/6 - 0s - loss: 0.0978 - mae: 0.2392 - val_loss: 0.6043 - val_mae: 0.5899\n",
      "Epoch 79/100\n",
      "6/6 - 0s - loss: 0.0938 - mae: 0.2302 - val_loss: 0.6072 - val_mae: 0.5890\n",
      "Epoch 80/100\n",
      "6/6 - 0s - loss: 0.0882 - mae: 0.2263 - val_loss: 0.6386 - val_mae: 0.6138\n",
      "Epoch 81/100\n",
      "6/6 - 0s - loss: 0.0861 - mae: 0.2221 - val_loss: 0.8679 - val_mae: 0.7094\n",
      "Epoch 82/100\n",
      "6/6 - 0s - loss: 0.1326 - mae: 0.2855 - val_loss: 0.8213 - val_mae: 0.6851\n",
      "Epoch 83/100\n",
      "6/6 - 0s - loss: 0.1217 - mae: 0.2772 - val_loss: 0.6783 - val_mae: 0.6278\n",
      "Epoch 84/100\n",
      "6/6 - 0s - loss: 0.1092 - mae: 0.2549 - val_loss: 0.5460 - val_mae: 0.5487\n",
      "Epoch 85/100\n",
      "6/6 - 0s - loss: 0.1489 - mae: 0.2912 - val_loss: 0.5079 - val_mae: 0.5328\n",
      "Epoch 86/100\n",
      "6/6 - 0s - loss: 0.1239 - mae: 0.2819 - val_loss: 0.5401 - val_mae: 0.5397\n",
      "Epoch 87/100\n",
      "6/6 - 0s - loss: 0.1187 - mae: 0.2718 - val_loss: 0.6251 - val_mae: 0.6112\n",
      "Epoch 88/100\n",
      "6/6 - 0s - loss: 0.0976 - mae: 0.2403 - val_loss: 0.6295 - val_mae: 0.5821\n",
      "Epoch 89/100\n",
      "6/6 - 0s - loss: 0.0945 - mae: 0.2409 - val_loss: 0.5494 - val_mae: 0.5601\n",
      "Epoch 90/100\n",
      "6/6 - 0s - loss: 0.0860 - mae: 0.2258 - val_loss: 0.5861 - val_mae: 0.5828\n",
      "Epoch 91/100\n",
      "6/6 - 0s - loss: 0.0695 - mae: 0.1986 - val_loss: 0.6097 - val_mae: 0.5891\n",
      "Epoch 92/100\n",
      "6/6 - 0s - loss: 0.0608 - mae: 0.1811 - val_loss: 0.6310 - val_mae: 0.5894\n",
      "Epoch 93/100\n",
      "6/6 - 0s - loss: 0.0656 - mae: 0.1931 - val_loss: 0.7513 - val_mae: 0.6450\n",
      "Epoch 94/100\n",
      "6/6 - 0s - loss: 0.0700 - mae: 0.2050 - val_loss: 0.6633 - val_mae: 0.6052\n",
      "Epoch 95/100\n",
      "6/6 - 0s - loss: 0.0655 - mae: 0.1975 - val_loss: 0.6414 - val_mae: 0.5930\n",
      "Epoch 96/100\n",
      "6/6 - 0s - loss: 0.0724 - mae: 0.2072 - val_loss: 0.5399 - val_mae: 0.5474\n",
      "Epoch 97/100\n",
      "6/6 - 0s - loss: 0.0607 - mae: 0.1927 - val_loss: 0.6452 - val_mae: 0.6215\n",
      "Epoch 98/100\n",
      "6/6 - 0s - loss: 0.0810 - mae: 0.2264 - val_loss: 0.6163 - val_mae: 0.5707\n",
      "Epoch 99/100\n",
      "6/6 - 0s - loss: 0.0865 - mae: 0.2335 - val_loss: 0.7411 - val_mae: 0.6313\n",
      "Epoch 100/100\n",
      "6/6 - 0s - loss: 0.1122 - mae: 0.2611 - val_loss: 0.6311 - val_mae: 0.6134\n"
     ]
    }
   ],
   "source": [
    "# Train the model, with some of the data reserved for validation\n",
    "history = model.fit(X_train,Y_train,validation_split=0.15,epochs=100,verbose=2,batch_size=64)\n"
   ]
  },
  {
   "cell_type": "code",
   "execution_count": 17,
   "metadata": {},
   "outputs": [
    {
     "name": "stdout",
     "output_type": "stream",
     "text": [
      "2/2 [==============================] - 0s 1ms/step - loss: 0.8045 - mae: 0.7460\b\b\b\b\b\b\b\b\b\b\b\b\b\b\b\b\b\b\b\b\b\b\b\b\b\b\b\b\b\b\b\b\b\b\b\b\b\b\b\b\b\b\b\b\b\b\b\b\b\b\b\b\b\b\b\b\b\b\b\b\b\b\b\b\b\b\b\b\b\b\b\n"
     ]
    }
   ],
   "source": [
    "# Evaluate the model on the test set\n",
    "loss,mae = model.evaluate(X_test,Y_test)\n"
   ]
  },
  {
   "cell_type": "markdown",
   "metadata": {},
   "source": [
    "#### Plot the learning curves"
   ]
  },
  {
   "cell_type": "code",
   "execution_count": 18,
   "metadata": {},
   "outputs": [],
   "source": [
    "import matplotlib.pyplot as plt\n",
    "%matplotlib inline"
   ]
  },
  {
   "cell_type": "code",
   "execution_count": 19,
   "metadata": {},
   "outputs": [
    {
     "data": {
      "text/plain": "<Figure size 432x288 with 1 Axes>",
      "image/png": "[encoded data removed]"
     },
     "metadata": {
      "needs_background": "light"
     },
     "output_type": "display_data"
    }
   ],
   "source": [
    "# Plot the training and validation loss\n",
    "\n",
    "plt.plot(history.history['loss'])\n",
    "plt.plot(history.history['val_loss'])\n",
    "plt.title('Loss vs. epochs')\n",
    "plt.ylabel('Loss')\n",
    "plt.xlabel('Epoch')\n",
    "plt.legend(['Training', 'Validation'], loc='upper right')\n",
    "plt.show()"
   ]
  },
  {
   "cell_type": "markdown",
   "metadata": {},
   "source": [
    "***\n",
    "<a id=\"coding_tutorial_2\"></a>\n",
    "## Model regularisation"
   ]
  },
  {
   "cell_type": "markdown",
   "metadata": {},
   "source": [
    "#### Adding regularisation with weight decay and dropout"
   ]
  },
  {
   "cell_type": "code",
   "execution_count": 20,
   "metadata": {},
   "outputs": [],
   "source": [
    "from tensorflow.keras.layers import Dropout\n",
    "from tensorflow.keras import regularizers"
   ]
  },
  {
   "cell_type": "code",
   "execution_count": 21,
   "metadata": {},
   "outputs": [],
   "source": [
    "def get_regularised_model(wd, rate):\n",
    "    model = Sequential([\n",
    "        Dense(128, activation=\"relu\", kernel_regularizer=regularizers.l2(wd), input_shape=(X_train.shape[1],)),\n",
    "        Dropout(rate),\n",
    "        Dense(128, activation=\"relu\", kernel_regularizer=regularizers.l2(wd),),\n",
    "        Dropout(rate),\n",
    "        Dense(128, activation=\"relu\", kernel_regularizer=regularizers.l2(wd),),\n",
    "        Dropout(rate),\n",
    "        Dense(128, activation=\"relu\", kernel_regularizer=regularizers.l2(wd),),\n",
    "        Dropout(rate),\n",
    "        Dense(128, activation=\"relu\", kernel_regularizer=regularizers.l2(wd),),\n",
    "        Dropout(rate),\n",
    "        Dense(128, activation=\"relu\", kernel_regularizer=regularizers.l2(wd),),\n",
    "        Dropout(rate),\n",
    "        Dense(1)\n",
    "    ])\n",
    "    return model"
   ]
  },
  {
   "cell_type": "code",
   "execution_count": 22,
   "metadata": {},
   "outputs": [],
   "source": [
    "# Re-build the model with weight decay and dropout layers\n",
    "\n",
    "model = get_regularised_model(0.01,0.05)"
   ]
  },
  {
   "cell_type": "code",
   "execution_count": 23,
   "metadata": {},
   "outputs": [],
   "source": [
    "# Compile the model\n",
    "\n",
    "model.compile(optimizer='adam', loss='mse', metrics=['mae'])"
   ]
  },
  {
   "cell_type": "code",
   "execution_count": 24,
   "metadata": {},
   "outputs": [],
   "source": [
    "# Train the model, with some of the data reserved for validation\n",
    "\n",
    "history = model.fit(X_train, Y_train, validation_split=0.20, epochs=100, batch_size=2**7, verbose=False )"
   ]
  },
  {
   "cell_type": "code",
   "execution_count": 25,
   "metadata": {},
   "outputs": [
    {
     "name": "stdout",
     "output_type": "stream",
     "text": [
      "2/2 - 0s - loss: 0.6203 - mae: 0.5403\n"
     ]
    }
   ],
   "source": [
    "# Evaluate the model on the test set\n",
    "loss, mae = model.evaluate(X_test,Y_test, verbose=2)\n"
   ]
  },
  {
   "cell_type": "markdown",
   "metadata": {},
   "source": [
    "#### Plot the learning curves"
   ]
  },
  {
   "cell_type": "code",
   "execution_count": 26,
   "metadata": {},
   "outputs": [
    {
     "data": {
      "text/plain": "<Figure size 432x288 with 1 Axes>",
      "image/png": "[encoded data removed]"
     },
     "metadata": {
      "needs_background": "light"
     },
     "output_type": "display_data"
    }
   ],
   "source": [
    "# Plot the training and validation loss\n",
    "\n",
    "import matplotlib.pyplot as plt\n",
    "\n",
    "plt.plot(history.history['loss'])\n",
    "plt.plot(history.history['val_loss'])\n",
    "plt.title('Loss vs. epochs')\n",
    "plt.ylabel('Loss')\n",
    "plt.xlabel('Epoch')\n",
    "plt.legend(['Training', 'Validation'], loc='upper right')\n",
    "plt.show()"
   ]
  },
  {
   "cell_type": "markdown",
   "metadata": {},
   "source": [
    "***\n",
    "<a id=\"coding_tutorial_3\"></a>\n",
    "## Introduction to callbacks"
   ]
  },
  {
   "cell_type": "markdown",
   "metadata": {},
   "source": [
    "#### Example training callback"
   ]
  },
  {
   "cell_type": "code",
   "execution_count": 27,
   "metadata": {},
   "outputs": [],
   "source": [
    "# Write a custom callback\n",
    "from tensorflow.keras.callbacks import Callback\n",
    "\n",
    "\n",
    "\n",
    "class myCustomTrainingCallBack(Callback):\n",
    "    \n",
    "    def on_train_begin(self, logs= None):\n",
    "        print(\"Training Begin!! \")\n",
    "        \n",
    "    def on_train_batch_begin(self, batch, logs=None):\n",
    "        print(f\"Training Batch {batch} Begin\")\n",
    "    \n",
    "    def on_train_batch_end(self, batch, logs=None):\n",
    "        print(f\"Training Batch {batch} Ended\")\n",
    "        \n",
    "    def on_epoch_begin(self, epoch, logs=None):\n",
    "        print(f\"Epoch #{epoch} Begin\" )\n",
    "        \n",
    "    def on_epoch_end(self, epoch, logs=None):\n",
    "        print(f\"Epoch #{epoch} End\")\n",
    "        \n",
    "    def on_train_end(self,logs=None):\n",
    "        print(\"Training Ended\")\n",
    "        \n",
    "        \n",
    "class myCustomTestingCallBack(Callback):\n",
    "    \n",
    "    def on_test_begin(self, logs= None):\n",
    "        print(\"Testing Begin!! \")\n",
    "        \n",
    "    def on_test_batch_begin(self, batch, logs=None):\n",
    "        print(f\"Testing Batch {batch} Begin\")\n",
    "    \n",
    "    def on_test_batch_end(self, batch, logs=None):\n",
    "        print(f\"Testing Batch {batch} Ended\")\n",
    "        \n",
    "        \n",
    "    def on_test_end(self,logs=None):\n",
    "        print(\"Testing Ended\")\n",
    "        \n",
    "\n",
    "class myCustomPredictionCallBack(Callback):\n",
    "    \n",
    "    def on_predict_begin(self, logs= None):\n",
    "        print(\"Prediction Begin!! \")\n",
    "        \n",
    "    def on_predict_batch_begin(self, batch, logs=None):\n",
    "        print(f\"Prediction Batch {batch} Begin\")\n",
    "    \n",
    "    def on_predict_batch_end(self, batch, logs=None):\n",
    "        print(f\"Predicton Batch {batch} Ended\")\n",
    "        \n",
    "        \n",
    "    def on_predict_end(self,logs=None):\n",
    "        print(\"Precition Ended\")"
   ]
  },
  {
   "cell_type": "code",
   "execution_count": 28,
   "metadata": {},
   "outputs": [],
   "source": [
    "# Re-build the model\n",
    "\n",
    "model = get_regularised_model(1e-5, 0.3)\n"
   ]
  },
  {
   "cell_type": "code",
   "execution_count": 29,
   "metadata": {},
   "outputs": [],
   "source": [
    "# Compile the model\n",
    "model.compile(optimizer='Adam', loss='mse')"
   ]
  },
  {
   "cell_type": "markdown",
   "metadata": {},
   "source": [
    "#### Train the model with the callback"
   ]
  },
  {
   "cell_type": "code",
   "execution_count": 30,
   "metadata": {},
   "outputs": [
    {
     "name": "stdout",
     "output_type": "stream",
     "text": [
      "Training Begin!! \n",
      "Epoch #0 Begin\n",
      "Training Batch 0 Begin\n",
      "Training Batch 0 Ended\n",
      "Training Batch 1 Begin\n",
      "Training Batch 1 Ended\n",
      "Training Batch 2 Begin\n",
      "Training Batch 2 Ended\n",
      "Epoch #0 End\n",
      "Epoch #1 Begin\n",
      "Training Batch 0 Begin\n",
      "Training Batch 0 Ended\n",
      "Training Batch 1 Begin\n",
      "Training Batch 1 Ended\n",
      "Training Batch 2 Begin\n",
      "Training Batch 2 Ended\n",
      "Epoch #1 End\n",
      "Epoch #2 Begin\n",
      "Training Batch 0 Begin\n",
      "Training Batch 0 Ended\n",
      "Training Batch 1 Begin\n",
      "Training Batch 1 Ended\n",
      "Training Batch 2 Begin\n",
      "Training Batch 2 Ended\n",
      "Epoch #2 End\n",
      "Epoch #3 Begin\n",
      "Training Batch 0 Begin\n",
      "Training Batch 0 Ended\n",
      "Training Batch 1 Begin\n",
      "Training Batch 1 Ended\n",
      "Training Batch 2 Begin\n",
      "Training Batch 2 Ended\n",
      "Epoch #3 End\n",
      "Epoch #4 Begin\n",
      "Training Batch 0 Begin\n",
      "Training Batch 0 Ended\n",
      "Training Batch 1 Begin\n",
      "Training Batch 1 Ended\n",
      "Training Batch 2 Begin\n",
      "Training Batch 2 Ended\n",
      "Epoch #4 End\n",
      "Training Ended\n"
     ]
    }
   ],
   "source": [
    "# Train the model, with some of the data reserved for validation\n",
    "\n",
    "history = model.fit(X_train,Y_train, epochs=5, batch_size=128, validation_split=0.1, callbacks=[myCustomTrainingCallBack()], verbose=0)"
   ]
  },
  {
   "cell_type": "code",
   "execution_count": 16,
   "metadata": {},
   "outputs": [
    {
     "name": "stdout",
     "output_type": "stream",
     "text": [
      "Testing Begin!! \n",
      "Testing Batch 0 Begin\n",
      "Testing Batch 0 Ended\n",
      "Testing Batch 1 Begin\n",
      "Testing Batch 1 Ended\n",
      "Testing Ended\n"
     ]
    },
    {
     "data": {
      "text/plain": [
       "0.5591641068458557"
      ]
     },
     "execution_count": 16,
     "metadata": {},
     "output_type": "execute_result"
    }
   ],
   "source": [
    "# Evaluate the model\n",
    "\n",
    "model.evaluate(X_test, Y_test, verbose=False, callbacks=[myCustomTestingCallBack()] )"
   ]
  },
  {
   "cell_type": "code",
   "execution_count": 31,
   "metadata": {},
   "outputs": [
    {
     "name": "stdout",
     "output_type": "stream",
     "text": [
      "Prediction Begin!! \n",
      "Prediction Batch 0 Begin\n",
      "Predicton Batch 0 Ended\n",
      "Prediction Batch 1 Begin\n",
      "Predicton Batch 1 Ended\n",
      "Precition Ended\n"
     ]
    },
    {
     "data": {
      "text/plain": "array([[ 0.2593555 ],\n       [ 0.34315282],\n       [-0.04131971],\n       [-0.1120209 ],\n       [ 0.07336584],\n       [-0.1081825 ],\n       [-0.02549986],\n       [ 0.17897516],\n       [ 0.25298843],\n       [ 0.114225  ],\n       [ 0.17478858],\n       [ 0.3694718 ],\n       [ 0.48071238],\n       [ 0.18180662],\n       [ 0.07610504],\n       [-0.1125576 ],\n       [ 0.20069695],\n       [ 0.3168754 ],\n       [-0.05395791],\n       [ 0.21074775],\n       [ 0.12429862],\n       [-0.06843936],\n       [-0.1137156 ],\n       [ 0.27318305],\n       [-0.03819892],\n       [ 0.10152555],\n       [-0.09778501],\n       [ 0.3546997 ],\n       [ 0.12296857],\n       [ 0.25381246],\n       [ 0.23593335],\n       [-0.10804111],\n       [ 0.3453573 ],\n       [-0.10956328],\n       [ 0.34214583],\n       [ 0.24553654],\n       [ 0.33257064],\n       [ 0.14278589],\n       [ 0.12043019],\n       [ 0.2845433 ],\n       [-0.11169586],\n       [ 0.29499817],\n       [ 0.37705395],\n       [-0.10043172],\n       [ 0.2909243 ]], dtype=float32)"
     },
     "execution_count": 31,
     "metadata": {},
     "output_type": "execute_result"
    }
   ],
   "source": [
    "# Make predictions with the model\n",
    "\n",
    "model.predict(X_test, verbose=False, callbacks=[myCustomPredictionCallBack()])"
   ]
  },
  {
   "cell_type": "markdown",
   "metadata": {},
   "source": [
    "***\n",
    "<a id=\"coding_tutorial_4\"></a>\n",
    "## Early stopping / patience"
   ]
  },
  {
   "cell_type": "markdown",
   "metadata": {},
   "source": [
    "#### Re-train the models with early stopping"
   ]
  },
  {
   "cell_type": "code",
   "execution_count": 45,
   "metadata": {},
   "outputs": [],
   "source": [
    "# Re-train the unregularised model\n",
    "unreg_model = get_model()\n",
    "unreg_model.compile(optimizer='adam', loss='mse')\n",
    "unreg_hist = unreg_model.fit(X_train,Y_train, epochs=100,\n",
    "                             verbose=False,validation_split=0.2,\n",
    "                             callbacks=[tf.keras.callbacks.EarlyStopping(patience=3)] )\n"
   ]
  },
  {
   "cell_type": "code",
   "execution_count": 46,
   "metadata": {},
   "outputs": [
    {
     "name": "stdout",
     "output_type": "stream",
     "text": [
      "2/2 [==============================] - 0s 2ms/step - loss: 0.4073\b\b\b\b\b\b\b\b\b\b\b\b\b\b\b\b\b\b\b\b\b\b\b\b\b\b\b\b\b\b\b\b\b\b\b\b\b\b\b\b\b\b\b\b\b\b\b\b\b\b\b\b\b\b\b\b\b\n"
     ]
    },
    {
     "data": {
      "text/plain": "0.4072655439376831"
     },
     "execution_count": 46,
     "metadata": {},
     "output_type": "execute_result"
    }
   ],
   "source": [
    "# Evaluate the model on the test set\n",
    "unreg_model.evaluate(X_test, Y_test)\n"
   ]
  },
  {
   "cell_type": "code",
   "execution_count": 47,
   "metadata": {},
   "outputs": [],
   "source": [
    "# Re-train the regularised model\n",
    "regularized_model = get_regularised_model(1e-8,0.01)\n",
    "regularized_model.compile(optimizer='adam', loss='mse')\n",
    "regularized_hist = regularized_model.fit(X_train,Y_train, epochs=100,\n",
    "                                         verbose=False,validation_split=0.2,\n",
    "                                         callbacks=[tf.keras.callbacks.EarlyStopping(patience=3)] )\n"
   ]
  },
  {
   "cell_type": "code",
   "execution_count": 48,
   "metadata": {},
   "outputs": [
    {
     "name": "stdout",
     "output_type": "stream",
     "text": [
      "2/2 [==============================] - 0s 998us/step - loss: 0.4059\b\b\b\b\b\b\b\b\b\b\b\b\b\b\b\b\b\b\b\b\b\b\b\b\b\b\b\b\b\b\b\b\b\b\b\b\b\b\b\b\b\b\b\b\b\b\b\b\b\b\b\b\b\b\b\n"
     ]
    },
    {
     "data": {
      "text/plain": "0.40586960315704346"
     },
     "execution_count": 48,
     "metadata": {},
     "output_type": "execute_result"
    }
   ],
   "source": [
    "# Evaluate the model on the test set\n",
    "\n",
    "regularized_model.evaluate(X_test,Y_test)"
   ]
  },
  {
   "cell_type": "markdown",
   "metadata": {},
   "source": [
    "#### Plot the learning curves"
   ]
  },
  {
   "cell_type": "code",
   "execution_count": 49,
   "metadata": {},
   "outputs": [
    {
     "data": {
      "text/plain": "<Figure size 864x360 with 2 Axes>",
      "image/png": "[encoded data removed]"
     },
     "metadata": {
      "needs_background": "light"
     },
     "output_type": "display_data"
    }
   ],
   "source": [
    "# Plot the training and validation loss\n",
    "\n",
    "import matplotlib.pyplot as plt\n",
    "\n",
    "fig = plt.figure(figsize=(12, 5))\n",
    "\n",
    "fig.add_subplot(121)\n",
    "\n",
    "plt.plot(unreg_hist.history['loss'])\n",
    "plt.plot(unreg_hist.history['val_loss'])\n",
    "plt.title('Unregularised model: loss vs. epochs')\n",
    "plt.ylabel('Loss')\n",
    "plt.xlabel('Epoch')\n",
    "plt.legend(['Training', 'Validation'], loc='upper right')\n",
    "\n",
    "fig.add_subplot(122)\n",
    "\n",
    "plt.plot(regularized_hist.history['loss'])\n",
    "plt.plot(regularized_hist.history['val_loss'])\n",
    "plt.title('Regularised model: loss vs. epochs')\n",
    "plt.ylabel('Loss')\n",
    "plt.xlabel('Epoch')\n",
    "plt.legend(['Training', 'Validation'], loc='upper right')\n",
    "\n",
    "plt.show()"
   ]
  },
  {
   "cell_type": "code",
   "execution_count": null,
   "outputs": [],
   "source": [
    "\n"
   ],
   "metadata": {
    "collapsed": false,
    "pycharm": {
     "name": "#%%\n"
    }
   }
  }
 ],
 "metadata": {
  "kernelspec": {
   "name": "python37764bitmyenvconda4a11ba26287d4d1c969b9946e31eb2a2",
   "language": "python",
   "display_name": "Python 3.7.7 64-bit ('myenv': conda)"
  },
  "language_info": {
   "codemirror_mode": {
    "name": "ipython",
    "version": 3
   },
   "file_extension": ".py",
   "mimetype": "text/x-python",
   "name": "python",
   "nbconvert_exporter": "python",
   "pygments_lexer": "ipython3",
   "version": "3.7.1"
  }
 },
 "nbformat": 4,
 "nbformat_minor": 2
}